{
 "cells": [
  {
   "cell_type": "code",
   "execution_count": null,
   "id": "cb3ebd1b",
   "metadata": {
    "execution": {
     "iopub.execute_input": "2025-03-19T05:16:49.094894Z",
     "iopub.status.busy": "2025-03-19T05:16:49.094548Z",
     "iopub.status.idle": "2025-03-19T05:16:50.300182Z",
     "shell.execute_reply": "2025-03-19T05:16:50.299317Z"
    },
    "papermill": {
     "duration": 1.211259,
     "end_time": "2025-03-19T05:16:50.301779",
     "exception": false,
     "start_time": "2025-03-19T05:16:49.090520",
     "status": "completed"
    },
    "tags": []
   },
   "outputs": [],
   "source": [
    "!git clone git@github.com:JPSoteloSilva/cyclegan-style-transfer.git"
   ]
  },
  {
   "cell_type": "code",
   "execution_count": null,
   "id": "86d15ba1",
   "metadata": {
    "execution": {
     "iopub.execute_input": "2025-03-19T05:16:50.559256Z",
     "iopub.status.busy": "2025-03-19T05:16:50.558992Z",
     "iopub.status.idle": "2025-03-19T05:16:50.564937Z",
     "shell.execute_reply": "2025-03-19T05:16:50.564174Z"
    },
    "papermill": {
     "duration": 0.010865,
     "end_time": "2025-03-19T05:16:50.566173",
     "exception": false,
     "start_time": "2025-03-19T05:16:50.555308",
     "status": "completed"
    },
    "tags": []
   },
   "outputs": [],
   "source": [
    "%cd cyclegan-style-transfer"
   ]
  },
  {
   "cell_type": "code",
   "execution_count": null,
   "id": "e9404825",
   "metadata": {
    "execution": {
     "iopub.execute_input": "2025-03-19T05:16:50.572685Z",
     "iopub.status.busy": "2025-03-19T05:16:50.572412Z",
     "iopub.status.idle": "2025-03-19T05:16:50.689165Z",
     "shell.execute_reply": "2025-03-19T05:16:50.688334Z"
    },
    "papermill": {
     "duration": 0.121636,
     "end_time": "2025-03-19T05:16:50.690710",
     "exception": false,
     "start_time": "2025-03-19T05:16:50.569074",
     "status": "completed"
    },
    "tags": []
   },
   "outputs": [],
   "source": [
    "!cat configs/kaggle.yaml"
   ]
  },
  {
   "cell_type": "code",
   "execution_count": null,
   "id": "210e657f",
   "metadata": {
    "execution": {
     "iopub.execute_input": "2025-03-19T05:16:51.238769Z",
     "iopub.status.busy": "2025-03-19T05:16:51.238462Z",
     "iopub.status.idle": "2025-03-19T05:16:58.272720Z",
     "shell.execute_reply": "2025-03-19T05:16:58.271889Z"
    },
    "papermill": {
     "duration": 7.03943,
     "end_time": "2025-03-19T05:16:58.274267",
     "exception": false,
     "start_time": "2025-03-19T05:16:51.234837",
     "status": "completed"
    },
    "tags": []
   },
   "outputs": [],
   "source": [
    "!pip install uv\n",
    "\n",
    "!uv venv\n",
    "!source .venv/bin/activate\n",
    "!uv sync"
   ]
  },
  {
   "cell_type": "code",
   "execution_count": null,
   "id": "aec94521",
   "metadata": {
    "execution": {
     "iopub.execute_input": "2025-03-19T05:17:01.906953Z",
     "iopub.status.busy": "2025-03-19T05:17:01.906691Z",
     "iopub.status.idle": "2025-03-19T07:38:59.278276Z",
     "shell.execute_reply": "2025-03-19T07:38:59.277009Z"
    },
    "papermill": {
     "duration": 8517.378776,
     "end_time": "2025-03-19T07:38:59.280374",
     "exception": false,
     "start_time": "2025-03-19T05:17:01.901598",
     "status": "completed"
    },
    "tags": []
   },
   "outputs": [],
   "source": [
    "!python -m src.train --config configs/kaggle.yaml"
   ]
  },
  {
   "cell_type": "code",
   "execution_count": null,
   "id": "f0ceb156",
   "metadata": {
    "execution": {
     "iopub.execute_input": "2025-03-19T07:38:59.298090Z",
     "iopub.status.busy": "2025-03-19T07:38:59.297794Z",
     "iopub.status.idle": "2025-03-19T07:42:31.345151Z",
     "shell.execute_reply": "2025-03-19T07:42:31.344275Z"
    },
    "papermill": {
     "duration": 212.05767,
     "end_time": "2025-03-19T07:42:31.346774",
     "exception": false,
     "start_time": "2025-03-19T07:38:59.289104",
     "status": "completed"
    },
    "tags": []
   },
   "outputs": [],
   "source": [
    "!python -m src.predict --config configs/kaggle.yaml"
   ]
  }
 ],
 "metadata": {
  "kaggle": {
   "accelerator": "gpu",
   "dataSources": [
    {
     "databundleVersionId": 1475600,
     "sourceId": 21755,
     "sourceType": "competition"
    },
    {
     "isSourceIdPinned": true,
     "modelId": 248561,
     "modelInstanceId": 226777,
     "sourceId": 265087,
     "sourceType": "modelInstanceVersion"
    },
    {
     "isSourceIdPinned": true,
     "modelId": 249154,
     "modelInstanceId": 227375,
     "sourceId": 265769,
     "sourceType": "modelInstanceVersion"
    }
   ],
   "dockerImageVersionId": 30886,
   "isGpuEnabled": true,
   "isInternetEnabled": true,
   "language": "python",
   "sourceType": "notebook"
  },
  "kernelspec": {
   "display_name": "Python 3",
   "language": "python",
   "name": "python3"
  },
  "language_info": {
   "codemirror_mode": {
    "name": "ipython",
    "version": 3
   },
   "file_extension": ".py",
   "mimetype": "text/x-python",
   "name": "python",
   "nbconvert_exporter": "python",
   "pygments_lexer": "ipython3",
   "version": "3.10.12"
  },
  "papermill": {
   "default_parameters": {},
   "duration": 8745.348336,
   "end_time": "2025-03-19T07:42:31.812326",
   "environment_variables": {},
   "exception": null,
   "input_path": "__notebook__.ipynb",
   "output_path": "__notebook__.ipynb",
   "parameters": {},
   "start_time": "2025-03-19T05:16:46.463990",
   "version": "2.6.0"
  }
 },
 "nbformat": 4,
 "nbformat_minor": 5
}
